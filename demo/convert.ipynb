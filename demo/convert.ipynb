{
 "cells": [
  {
   "cell_type": "code",
   "execution_count": 2,
   "metadata": {},
   "outputs": [],
   "source": [
    "import array\n",
    "\n",
    "fp_points = open(\"./amazon/001100.bin\", \"rb\")\n",
    "values = array.array('f')\n",
    "values.frombytes(fp_points.read())\n",
    "\n",
    "points = []\n",
    "for i in range(0, len(values), 4):\n",
    "    points.append(values[i])\n",
    "    points.append(values[i + 1])\n",
    "    points.append(values[i + 2])\n",
    "    points.append(values[i + 3])\n",
    "    points.append(0)\n",
    "     \n",
    "fileobj = open('./amazon/001100p.bin', mode='wb')\n",
    "outvalues = array.array('f')\n",
    "outvalues.fromlist(points)\n",
    "outvalues.tofile(fileobj)\n",
    "fileobj.flush()\n",
    "fileobj.close()"
   ]
  },
  {
   "cell_type": "code",
   "execution_count": null,
   "metadata": {},
   "outputs": [],
   "source": []
  }
 ],
 "metadata": {
  "kernelspec": {
   "display_name": "Python 3",
   "language": "python",
   "name": "python3"
  },
  "language_info": {
   "codemirror_mode": {
    "name": "ipython",
    "version": 3
   },
   "file_extension": ".py",
   "mimetype": "text/x-python",
   "name": "python",
   "nbconvert_exporter": "python",
   "pygments_lexer": "ipython3",
   "version": "3.6.7"
  }
 },
 "nbformat": 4,
 "nbformat_minor": 2
}
